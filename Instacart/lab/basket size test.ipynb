{
 "cells": [
  {
   "cell_type": "markdown",
   "metadata": {},
   "source": [
    "# Basket Size 예측"
   ]
  },
  {
   "cell_type": "code",
   "execution_count": null,
   "metadata": {
    "collapsed": true
   },
   "outputs": [],
   "source": [
    "import numpy as np\n",
    "import pandas as pd"
   ]
  },
  {
   "cell_type": "code",
   "execution_count": null,
   "metadata": {},
   "outputs": [],
   "source": [
    "products = pd.read_csv(\"data/products.csv\")\n",
    "aisles = pd.read_csv(\"data/aisles.csv\")\n",
    "departments = pd.read_csv(\"data/departments.csv\")\n",
    "orders = pd.read_csv(\"data/orders.csv\")\n",
    "prior = pd.read_csv(\"data/order_products__prior.csv\")\n",
    "train = pd.read_csv(\"data/order_products__train.csv\")"
   ]
  },
  {
   "cell_type": "code",
   "execution_count": null,
   "metadata": {},
   "outputs": [],
   "source": [
    "priorXorders = prior.merge(orders, on='order_id')\n",
    "priorXorders.head()"
   ]
  },
  {
   "cell_type": "markdown",
   "metadata": {},
   "source": [
    "## prior의 basket size"
   ]
  },
  {
   "cell_type": "code",
   "execution_count": null,
   "metadata": {},
   "outputs": [],
   "source": [
    "prior_order_basketsize = pd.DataFrame()\n",
    "prior_order_basketsize['basketsize'] = prior.groupby('order_id').size()\n",
    "prior_order_basketsize"
   ]
  },
  {
   "cell_type": "markdown",
   "metadata": {},
   "source": [
    "## train의 basketsize"
   ]
  },
  {
   "cell_type": "code",
   "execution_count": null,
   "metadata": {},
   "outputs": [],
   "source": [
    "train_order_basketsize = pd.DataFrame()\n",
    "train_order_basketsize['basketsize'] = train.groupby('order_id').size()\n",
    "train_order_basketsize"
   ]
  },
  {
   "cell_type": "code",
   "execution_count": null,
   "metadata": {},
   "outputs": [],
   "source": [
    "order_basketsize = prior_order_basketsize.append(train_order_basketsize)"
   ]
  },
  {
   "cell_type": "markdown",
   "metadata": {},
   "source": [
    "# order와 basketsize를 합침"
   ]
  },
  {
   "cell_type": "code",
   "execution_count": null,
   "metadata": {},
   "outputs": [],
   "source": [
    "order_plus_basketsize = orders.join(order_basketsize, on = ['order_id'])\n",
    "order_plus_basketsize"
   ]
  },
  {
   "cell_type": "code",
   "execution_count": null,
   "metadata": {},
   "outputs": [],
   "source": [
    "prior_basket_Info = order_plus_basketsize[order_plus_basketsize['eval_set'] == 'prior']\n",
    "prior_basket_Info"
   ]
  },
  {
   "cell_type": "code",
   "execution_count": null,
   "metadata": {},
   "outputs": [],
   "source": [
    "train_basket_Info = order_plus_basketsize[order_plus_basketsize['eval_set'] == 'train']\n",
    "train_basket_Info"
   ]
  },
  {
   "cell_type": "code",
   "execution_count": null,
   "metadata": {},
   "outputs": [],
   "source": [
    "average_basketsize = pd.DataFrame()\n",
    "average_basketsize['user_avg_basketsize'] = prior_basket_Info.groupby('user_id')['basketsize'].mean()\n",
    "Average_Basketsize = pd.concat([average_basketsize, train_basket_Info], axis=1, join='inner')\n",
    "del average_basketsize\n",
    "\n",
    "Average_Basketsize = Average_Basketsize.drop(['eval_set','order_number','order_dow','order_hour_of_day','days_since_prior_order'], 1)\n",
    "Average_Basketsize = Average_Basketsize.set_index('user_id')\n",
    "Average_Basketsize"
   ]
  },
  {
   "cell_type": "code",
   "execution_count": null,
   "metadata": {},
   "outputs": [],
   "source": [
    "import math\n",
    "mse = 0.0\n",
    "for row in Average_Basketsize.itertuples():\n",
    "    a = row.user_avg_basketsize\n",
    "    b = row.basketsize\n",
    "    mse += (a-b)*(a-b)\n",
    "N = len(Average_Basketsize.index)\n",
    "mse /= N\n",
    "rmse = math.sqrt(mse)\n",
    "\n",
    "print('mse : ',mse)\n",
    "print('rmse : ',rmse)"
   ]
  },
  {
   "cell_type": "code",
   "execution_count": null,
   "metadata": {
    "collapsed": true
   },
   "outputs": [],
   "source": []
  }
 ],
 "metadata": {
  "kernelspec": {
   "display_name": "Python 3",
   "language": "python",
   "name": "python3"
  },
  "language_info": {
   "codemirror_mode": {
    "name": "ipython",
    "version": 3
   },
   "file_extension": ".py",
   "mimetype": "text/x-python",
   "name": "python",
   "nbconvert_exporter": "python",
   "pygments_lexer": "ipython3",
   "version": "3.6.1"
  }
 },
 "nbformat": 4,
 "nbformat_minor": 2
}
